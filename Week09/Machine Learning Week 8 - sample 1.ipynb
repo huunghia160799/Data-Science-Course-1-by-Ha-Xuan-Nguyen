{
 "cells": [
  {
   "cell_type": "markdown",
   "metadata": {},
   "source": [
    "# Simple Linear Regression and Polynomial Regression "
   ]
  },
  {
   "cell_type": "markdown",
   "metadata": {},
   "source": [
    " ## Importing libs and  Loading dataset "
   ]
  },
  {
   "cell_type": "code",
   "execution_count": 1,
   "metadata": {},
   "outputs": [],
   "source": [
    "import numpy as np\n",
    "import matplotlib.pyplot as plt\n",
    "import pandas as pd"
   ]
  },
  {
   "cell_type": "code",
   "execution_count": 2,
   "metadata": {},
   "outputs": [
    {
     "data": {
      "text/html": [
       "<div>\n",
       "<style scoped>\n",
       "    .dataframe tbody tr th:only-of-type {\n",
       "        vertical-align: middle;\n",
       "    }\n",
       "\n",
       "    .dataframe tbody tr th {\n",
       "        vertical-align: top;\n",
       "    }\n",
       "\n",
       "    .dataframe thead th {\n",
       "        text-align: right;\n",
       "    }\n",
       "</style>\n",
       "<table border=\"1\" class=\"dataframe\">\n",
       "  <thead>\n",
       "    <tr style=\"text-align: right;\">\n",
       "      <th></th>\n",
       "      <th>0</th>\n",
       "      <th>1</th>\n",
       "      <th>2</th>\n",
       "      <th>3</th>\n",
       "      <th>4</th>\n",
       "    </tr>\n",
       "  </thead>\n",
       "  <tbody>\n",
       "    <tr>\n",
       "      <th>Position</th>\n",
       "      <td>Business Analyst</td>\n",
       "      <td>Junior Consultant</td>\n",
       "      <td>Senior Consultant</td>\n",
       "      <td>Manager</td>\n",
       "      <td>Country Manager</td>\n",
       "    </tr>\n",
       "    <tr>\n",
       "      <th>Level</th>\n",
       "      <td>1</td>\n",
       "      <td>2</td>\n",
       "      <td>3</td>\n",
       "      <td>4</td>\n",
       "      <td>5</td>\n",
       "    </tr>\n",
       "    <tr>\n",
       "      <th>Salary</th>\n",
       "      <td>45000</td>\n",
       "      <td>50000</td>\n",
       "      <td>60000</td>\n",
       "      <td>80000</td>\n",
       "      <td>110000</td>\n",
       "    </tr>\n",
       "  </tbody>\n",
       "</table>\n",
       "</div>"
      ],
      "text/plain": [
       "                         0                  1                  2        3  \\\n",
       "Position  Business Analyst  Junior Consultant  Senior Consultant  Manager   \n",
       "Level                    1                  2                  3        4   \n",
       "Salary               45000              50000              60000    80000   \n",
       "\n",
       "                        4  \n",
       "Position  Country Manager  \n",
       "Level                   5  \n",
       "Salary             110000  "
      ]
     },
     "execution_count": 2,
     "metadata": {},
     "output_type": "execute_result"
    }
   ],
   "source": [
    "dataset = pd.read_csv('Position_Salaries.csv')\n",
    "X = dataset.iloc[:, 1:2].values\n",
    "y = dataset.iloc[:, 2].values\n",
    "dataset.head().T"
   ]
  },
  {
   "cell_type": "code",
   "execution_count": 3,
   "metadata": {},
   "outputs": [
    {
     "data": {
      "text/html": [
       "<div>\n",
       "<style scoped>\n",
       "    .dataframe tbody tr th:only-of-type {\n",
       "        vertical-align: middle;\n",
       "    }\n",
       "\n",
       "    .dataframe tbody tr th {\n",
       "        vertical-align: top;\n",
       "    }\n",
       "\n",
       "    .dataframe thead th {\n",
       "        text-align: right;\n",
       "    }\n",
       "</style>\n",
       "<table border=\"1\" class=\"dataframe\">\n",
       "  <thead>\n",
       "    <tr style=\"text-align: right;\">\n",
       "      <th></th>\n",
       "      <th>5</th>\n",
       "      <th>6</th>\n",
       "      <th>7</th>\n",
       "      <th>8</th>\n",
       "      <th>9</th>\n",
       "    </tr>\n",
       "  </thead>\n",
       "  <tbody>\n",
       "    <tr>\n",
       "      <th>Position</th>\n",
       "      <td>Region Manager</td>\n",
       "      <td>Partner</td>\n",
       "      <td>Senior Partner</td>\n",
       "      <td>C-level</td>\n",
       "      <td>CEO</td>\n",
       "    </tr>\n",
       "    <tr>\n",
       "      <th>Level</th>\n",
       "      <td>6</td>\n",
       "      <td>7</td>\n",
       "      <td>8</td>\n",
       "      <td>9</td>\n",
       "      <td>10</td>\n",
       "    </tr>\n",
       "    <tr>\n",
       "      <th>Salary</th>\n",
       "      <td>150000</td>\n",
       "      <td>200000</td>\n",
       "      <td>300000</td>\n",
       "      <td>500000</td>\n",
       "      <td>1000000</td>\n",
       "    </tr>\n",
       "  </tbody>\n",
       "</table>\n",
       "</div>"
      ],
      "text/plain": [
       "                       5        6               7        8        9\n",
       "Position  Region Manager  Partner  Senior Partner  C-level      CEO\n",
       "Level                  6        7               8        9       10\n",
       "Salary            150000   200000          300000   500000  1000000"
      ]
     },
     "execution_count": 3,
     "metadata": {},
     "output_type": "execute_result"
    }
   ],
   "source": [
    "dataset.tail().T"
   ]
  },
  {
   "cell_type": "markdown",
   "metadata": {},
   "source": [
    "## Ploting Salary vs Position Level"
   ]
  },
  {
   "cell_type": "code",
   "execution_count": 4,
   "metadata": {},
   "outputs": [
    {
     "data": {
      "image/png": "[encoded data removed]",
      "text/plain": [
       "<matplotlib.figure.Figure at 0x104e325f8>"
      ]
     },
     "metadata": {},
     "output_type": "display_data"
    }
   ],
   "source": [
    "plt.scatter(X, y, color = 'red')\n",
    "plt.xlabel('Position level')\n",
    "plt.ylabel('Salary')\n",
    "plt.show()"
   ]
  },
  {
   "cell_type": "markdown",
   "metadata": {},
   "source": [
    "## Fitting and predicting the LR model"
   ]
  },
  {
   "cell_type": "code",
   "execution_count": 5,
   "metadata": {},
   "outputs": [
    {
     "name": "stdout",
     "output_type": "stream",
     "text": [
      "Predited salary for position level 6.5 is 330378.79\n"
     ]
    }
   ],
   "source": [
    "from sklearn.linear_model import LinearRegression\n",
    "lin_reg = LinearRegression()\n",
    "lin_reg.fit(X, y)\n",
    "print(\"Predited salary for position level 6.5 is {:.2f}\".format(lin_reg.predict(6.5)[0])) "
   ]
  },
  {
   "cell_type": "code",
   "execution_count": 6,
   "metadata": {},
   "outputs": [
    {
     "name": "stdout",
     "output_type": "stream",
     "text": [
      "Linear regression score:0.669\n"
     ]
    }
   ],
   "source": [
    "print(\"Linear regression score:{:.3f}\".format(lin_reg.score(X,y)))"
   ]
  },
  {
   "cell_type": "code",
   "execution_count": 7,
   "metadata": {
    "scrolled": true
   },
   "outputs": [
    {
     "name": "stdout",
     "output_type": "stream",
     "text": [
      "Model has a coefficient of determination, R^2, of 0.669.\n"
     ]
    }
   ],
   "source": [
    "from sklearn.metrics import r2_score\n",
    "pred=lin_reg.predict(X) \n",
    "print(\"Model has a coefficient of determination, R^2, of {:.3f}.\".format(r2_score(y,pred)))"
   ]
  },
  {
   "cell_type": "code",
   "execution_count": 8,
   "metadata": {},
   "outputs": [
    {
     "name": "stdout",
     "output_type": "stream",
     "text": [
      "Predicting function y=ax+b where\n",
      "a=80878.78787878786\n",
      "b=-195333.3333333332\n"
     ]
    }
   ],
   "source": [
    "print(\"Predicting function y=ax+b where\")\n",
    "print(\"a=\"+str(lin_reg.coef_[0]))\n",
    "print(\"b=\"+str(lin_reg.intercept_))"
   ]
  },
  {
   "cell_type": "markdown",
   "metadata": {},
   "source": [
    "## Plotting"
   ]
  },
  {
   "cell_type": "code",
   "execution_count": 17,
   "metadata": {},
   "outputs": [
    {
     "data": {
      "image/png": "[encoded data removed]",
      "text/plain": [
       "<matplotlib.figure.Figure at 0x10c812400>"
      ]
     },
     "metadata": {},
     "output_type": "display_data"
    }
   ],
   "source": [
    "plt.scatter(X, y, color = 'red')\n",
    "plt.scatter([6.5],lin_reg.predict(6.5), color ='black', marker ='D')\n",
    "plt.plot(X, lin_reg.predict(X), color = 'green')\n",
    "plt.title('Linear Regression Model')\n",
    "plt.xlabel('Position level')\n",
    "plt.ylabel('Salary')\n",
    "plt.show()"
   ]
  },
  {
   "cell_type": "markdown",
   "metadata": {},
   "source": [
    "## Fitting a Polynomial Regression "
   ]
  },
  {
   "cell_type": "code",
   "execution_count": 10,
   "metadata": {},
   "outputs": [
    {
     "name": "stdout",
     "output_type": "stream",
     "text": [
      "Predited salary for position level 6.5 is 158862.45\n"
     ]
    }
   ],
   "source": [
    "from sklearn.preprocessing import PolynomialFeatures\n",
    "\n",
    "poly_reg_4 = PolynomialFeatures(degree = 4)\n",
    "X_poly = poly_reg_4.fit_transform(X)\n",
    "\n",
    "lin_reg_4 = LinearRegression()\n",
    "lin_reg_4.fit(X_poly, y)\n",
    "\n",
    "print(\"Predited salary for position level 6.5 is {:.2f}\"\\\n",
    "      .format(lin_reg_4.predict(poly_reg_4.fit_transform(6.5))[0]))"
   ]
  },
  {
   "cell_type": "code",
   "execution_count": 11,
   "metadata": {},
   "outputs": [
    {
     "name": "stdout",
     "output_type": "stream",
     "text": [
      "Polynomial regression score: 0.9973922891706614\n"
     ]
    }
   ],
   "source": [
    "print(\"Polynomial regression score:\", lin_reg_4.score(X_poly,y))"
   ]
  },
  {
   "cell_type": "code",
   "execution_count": 12,
   "metadata": {},
   "outputs": [
    {
     "name": "stdout",
     "output_type": "stream",
     "text": [
      "a=[      0.         -211002.33100266   94765.44289054  -15463.2867133\n",
      "     890.15151515]\n",
      "b=184166.66666706698\n"
     ]
    }
   ],
   "source": [
    "print(\"a=\"+str(lin_reg_4.coef_))\n",
    "print(\"b=\"+str(lin_reg_4.intercept_))"
   ]
  },
  {
   "cell_type": "markdown",
   "metadata": {},
   "source": [
    "## Plotting "
   ]
  },
  {
   "cell_type": "code",
   "execution_count": 13,
   "metadata": {},
   "outputs": [
    {
     "data": {
      "image/png": "[encoded data removed]",
      "text/plain": [
       "<matplotlib.figure.Figure at 0x112475940>"
      ]
     },
     "metadata": {},
     "output_type": "display_data"
    }
   ],
   "source": [
    "plt.scatter(X, y, color = 'red')\n",
    "plt.scatter([6.5,6.5],[lin_reg.predict(6.5)[0],lin_reg_4.predict(poly_reg_4.fit_transform(6.5))[0]],\\\n",
    "            color ='black', marker ='D')\n",
    "plt.plot(X, lin_reg.predict(X), color = 'green', label ='linear reg')\n",
    "plt.plot(X, lin_reg_4.predict(poly_reg_4.fit_transform(X)), color = 'blue',\\\n",
    "         label='polynomial reg')\n",
    "plt.title('Linear Regression vs Polynomial Regression')\n",
    "plt.xlabel('Position level')\n",
    "plt.ylabel('Salary')\n",
    "plt.legend()\n",
    "plt.show()"
   ]
  },
  {
   "cell_type": "markdown",
   "metadata": {},
   "source": [
    "## Pipeline "
   ]
  },
  {
   "cell_type": "code",
   "execution_count": 14,
   "metadata": {},
   "outputs": [
    {
     "name": "stdout",
     "output_type": "stream",
     "text": [
      "Predited salary for position level 6.5 is 189498.11\n"
     ]
    }
   ],
   "source": [
    "from sklearn.pipeline import Pipeline\n",
    "poly_reg_2 = PolynomialFeatures(degree = 2)\n",
    "lin_reg_2 = LinearRegression()\n",
    "steps=[('poly_features', poly_reg_2),('linear_regression',lin_reg_2)]\n",
    "pipeline = Pipeline(steps)\n",
    "pipeline.fit(X, y)\n",
    "\n",
    "print(\"Predited salary for position level 6.5 is {:.2f}\".format(pipeline.predict(6.5)[0]))"
   ]
  },
  {
   "cell_type": "code",
   "execution_count": 15,
   "metadata": {},
   "outputs": [
    {
     "name": "stdout",
     "output_type": "stream",
     "text": [
      "R^2 score: 0.916.\n"
     ]
    }
   ],
   "source": [
    "from sklearn.metrics import r2_score\n",
    "y_pred=pipeline.predict(X)\n",
    "score = r2_score(y,y_pred)\n",
    "print(\"R^2 score: {:.3f}.\".format(score))"
   ]
  },
  {
   "cell_type": "markdown",
   "metadata": {},
   "source": [
    "## Plotting "
   ]
  },
  {
   "cell_type": "code",
   "execution_count": 16,
   "metadata": {},
   "outputs": [
    {
     "data": {
      "image/png": "[encoded data removed]",
      "text/plain": [
       "<matplotlib.figure.Figure at 0x112571278>"
      ]
     },
     "metadata": {},
     "output_type": "display_data"
    }
   ],
   "source": [
    "plt.scatter(X, y, color = 'red')\n",
    "plt.scatter([6.5,6.5,6.5],[lin_reg.predict(6.5)[0],lin_reg_4.predict(poly_reg_4.fit_transform(6.5))[0],\\\n",
    "            pipeline.predict(6.5)[0]],color ='black', marker ='D')\n",
    "plt.plot(X, lin_reg.predict(X), color = 'green', label ='linear reg')\n",
    "plt.plot(X, pipeline.predict(X), color = 'purple', label ='2-polynomial reg')\n",
    "plt.plot(X, lin_reg_4.predict(poly_reg_4.fit_transform(X)), color = 'blue',\\\n",
    "         label='4-polynomial reg')\n",
    "plt.title('Linear Regression vs Polynomial Regression')\n",
    "plt.xlabel('Position level')\n",
    "plt.ylabel('Salary')\n",
    "plt.legend()\n",
    "plt.show()"
   ]
  },
  {
   "cell_type": "code",
   "execution_count": null,
   "metadata": {},
   "outputs": [],
   "source": []
  }
 ],
 "metadata": {
  "kernelspec": {
   "display_name": "Python 3",
   "language": "python",
   "name": "python3"
  },
  "language_info": {
   "codemirror_mode": {
    "name": "ipython",
    "version": 3
   },
   "file_extension": ".py",
   "mimetype": "text/x-python",
   "name": "python",
   "nbconvert_exporter": "python",
   "pygments_lexer": "ipython3",
   "version": "3.6.5"
  }
 },
 "nbformat": 4,
 "nbformat_minor": 2
}
